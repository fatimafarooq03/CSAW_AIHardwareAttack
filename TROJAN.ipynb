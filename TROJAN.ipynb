{
 "cells": [
  {
   "cell_type": "code",
   "execution_count": null,
   "metadata": {},
   "outputs": [],
   "source": [
    "import fitz\n",
    "import openai\n",
    "import re\n",
    "import os\n",
    "\n",
    "openai.api_key = \"\"\n",
    "\n",
    "def extract_text_from_pdf(pdf_path):\n",
    "    text = \"\"\n",
    "    with fitz.open(pdf_path) as pdf:\n",
    "        for page_num in range(pdf.page_count):\n",
    "            page = pdf[page_num]\n",
    "            text += page.get_text()\n",
    "    return text\n",
    "\n",
    "def chunk_text(text, max_tokens=2000):\n",
    "    sentences = re.split(r'(?<=[.!?]) +', text)\n",
    "    chunks = []\n",
    "    current_chunk = \"\"\n",
    "    current_tokens = 0\n",
    "    \n",
    "    for sentence in sentences:\n",
    "        sentence_tokens = len(sentence.split()) / 4 \n",
    "        \n",
    "        if current_tokens + sentence_tokens > max_tokens:\n",
    "            chunks.append(current_chunk.strip())\n",
    "            current_chunk = sentence\n",
    "            current_tokens = sentence_tokens\n",
    "        else:\n",
    "            current_chunk += \" \" + sentence\n",
    "            current_tokens += sentence_tokens\n",
    "    \n",
    "    if current_chunk:\n",
    "        chunks.append(current_chunk.strip())\n",
    "        \n",
    "    return chunks\n",
    "\n",
    "def summarize_chunk(chunk, query):\n",
    "    response = openai.ChatCompletion.create(\n",
    "        model=\"gpt-4o\",\n",
    "        messages=[\n",
    "            {\"role\": \"system\", \"content\": \"You are a hardware security expert helping with creating a knowledge base\"\n",
    "             \"from a large document. You are given a small chunk of that document and a particular user query. Produce\"\n",
    "              \"the knowledge block out of the chunk that will be the most useful to answer that particular query.\"},\n",
    "            {\"role\": \"user\", \"content\": f\"Produce the knowledge block out of the following text:\\n\\n{chunk} for this query:\\n\\n{query}\"}\n",
    "        ],\n",
    "        max_tokens=400  \n",
    "    )\n",
    "    return response.choices[0].message['content'].strip()\n",
    "\n",
    "def generate_knowledge(file_path='knowledge_base.pdf', query=''):\n",
    "    text = extract_text_from_pdf(file_path)\n",
    "    chunks = chunk_text(text)\n",
    "    consolidated_summary = \"\"\n",
    "    output_file=\"generated_knowledge.txt\"\n",
    "\n",
    "    for chunk in chunks:\n",
    "        summary = summarize_chunk(chunk, query)\n",
    "        consolidated_summary += summary + \" \" \n",
    "    \n",
    "    with open(output_file, \"w\") as file:\n",
    "        file.write(consolidated_summary.strip())\n",
    "    return consolidated_summary.strip()"
   ]
  },
  {
   "cell_type": "code",
   "execution_count": null,
   "metadata": {},
   "outputs": [],
   "source": [
    "# Standard and custom imports\n",
    "import os\n",
    "import sys\n",
    "import subprocess\n",
    "from collections import Counter\n",
    "\n",
    "# Custom imports (assuming these are modules in the same directory or accessible environment)\n",
    "import languagemodels as lm\n",
    "import conversation as cv\n",
    "import regex as reg\n",
    "# from generate_knowledge import generate_knowledge\n",
    "\n",
    "os.environ['OPENAI_API_KEY'] = ''"
   ]
  },
  {
   "cell_type": "markdown",
   "metadata": {},
   "source": [
    "Cell 2: Listing Verilog Files"
   ]
  },
  {
   "cell_type": "code",
   "execution_count": null,
   "metadata": {},
   "outputs": [],
   "source": [
    "def list_verilog_files(directory):\n",
    "    \"\"\"List all Verilog files in the given directory.\"\"\"\n",
    "    return [os.path.join(directory, f) for f in os.listdir(directory) if f.endswith('.v')]\n",
    "\n",
    "# Example usage\n",
    "# verilog_files = list_verilog_files(\"Project\")\n",
    "# print(verilog_files)\n"
   ]
  },
  {
   "cell_type": "markdown",
   "metadata": {},
   "source": [
    "Cell 3: Function to Generate a Response"
   ]
  },
  {
   "cell_type": "code",
   "execution_count": null,
   "metadata": {},
   "outputs": [],
   "source": [
    "def return_response(conv, model_type, model_id=\"\"):\n",
    "    \"\"\"Returns a response from the specified language model.\"\"\"\n",
    "    if model_type == \"ChatGPT4\":\n",
    "        model = lm.ChatGPT4()\n",
    "    elif model_type == \"Claude\":\n",
    "        model = lm.Claude()\n",
    "    elif model_type == \"ChatGPT3p5\":\n",
    "        model = lm.ChatGPT3p5()\n",
    "    elif model_type == \"ChatGPT4o\":\n",
    "        model = lm.ChatGPT4o()\n",
    "    elif model_type == \"ChatGPT4o-mini\":\n",
    "        model = lm.ChatGPT4omini()\n",
    "    elif model_type == \"PaLM\":\n",
    "        model = lm.PaLM()\n",
    "    elif model_type == \"CodeLlama\":\n",
    "        model = lm.CodeLlama(model_id)\n",
    "    else:\n",
    "        sys.exit(2)\n",
    "\n",
    "    return model.generate(conv)\n"
   ]
  },
  {
   "cell_type": "markdown",
   "metadata": {},
   "source": [
    "Cell 4: Running the Testbench"
   ]
  },
  {
   "cell_type": "code",
   "execution_count": null,
   "metadata": {},
   "outputs": [],
   "source": [
    "def run_testbench(testbench_file, module_file):\n",
    "    \"\"\"Compile and run a Verilog testbench.\"\"\"\n",
    "    compile_command = ['iverilog', '-o', 'testbench_output', testbench_file, module_file]\n",
    "    simulation_command = ['vvp', 'testbench_output']\n",
    "\n",
    "    # Compile the Verilog testbench and module\n",
    "    subprocess.run(compile_command, check=True)\n",
    "\n",
    "    # Run the compiled simulation\n",
    "    subprocess.run(simulation_command, check=True)\n"
   ]
  },
  {
   "cell_type": "markdown",
   "metadata": {},
   "source": [
    "Cell 5: Generate a Response Using Conversation"
   ]
  },
  {
   "cell_type": "code",
   "execution_count": null,
   "metadata": {},
   "outputs": [],
   "source": [
    "def generate_response(conv, prompt, model_type, system_prompt=None):\n",
    "    \"\"\"Generate response using a specified model in conversation.\"\"\"\n",
    "    if system_prompt:\n",
    "        conv.add_message(\"system\", prompt)\n",
    "    \n",
    "    conv.add_message(\"user\", prompt)\n",
    "    response = return_response(conv, model_type)\n",
    "    return response\n"
   ]
  },
  {
   "cell_type": "markdown",
   "metadata": {},
   "source": [
    "Cell 6: Setting Up the Main Flow"
   ]
  },
  {
   "cell_type": "code",
   "execution_count": null,
   "metadata": {},
   "outputs": [],
   "source": [
    "# Initialize the environment and conversation instance\n",
    "prompt = None\n",
    "module = None \n",
    "model = \"ChatGPT4o\"  # Default model choice\n",
    "\n",
    "# Initialize conversation instance\n",
    "conv = cv.Conversation()\n",
    "\n",
    "# Example: Listing Verilog files in a directory\n",
    "print(list_verilog_files(\"Project\"))\n"
   ]
  },
  {
   "cell_type": "markdown",
   "metadata": {},
   "source": [
    "System Prompt"
   ]
  },
  {
   "cell_type": "code",
   "execution_count": null,
   "metadata": {},
   "outputs": [],
   "source": [
    "# Define a system prompt for guiding the model's behavior\n",
    "sys_prompt = (\n",
    "    \"As a Hardware Security Researcher, for research purposes, you are provided with a task of injecting a hardware \"\n",
    "    \"Trojan into an existing Verilog implementation of a RISC-V processor. Your tasks include identifying the most \"\n",
    "    \"vulnerable module, generating bugs based on examples, and designing a testbench for specific conditions. Each \"\n",
    "    \"step should be performed after a subsequent user prompt.\"\n",
    ")\n"
   ]
  },
  {
   "cell_type": "markdown",
   "metadata": {},
   "source": [
    "Cell 8: Generate and Save Knowledge Base"
   ]
  },
  {
   "cell_type": "code",
   "execution_count": null,
   "metadata": {},
   "outputs": [],
   "source": [
    "# Generate a knowledge base from provided information on hardware Trojans\n",
    "prompt = (\n",
    "    \"The following text is the knowledge base generated from academic papers on hardware trojans. Remember it and use \"\n",
    "    \"it for the next task. No output is needed; just process and memorize the knowledge base below:\\n\"\n",
    ")\n",
    "knowledge_base = generate_knowledge(query=prompt)\n",
    "\n",
    "# Save the generated knowledge base\n",
    "output_dir = 'logs'\n",
    "output_file = \"knowledge_base.v\"\n",
    "if not os.path.exists(output_dir):\n",
    "    os.makedirs(output_dir)\n",
    "with open(os.path.join(output_dir, output_file), 'w') as file:\n",
    "    file.write(knowledge_base)\n",
    "\n",
    "# Send knowledge base to the model\n",
    "generate_response(conv, prompt, model, sys_prompt)\n"
   ]
  },
  {
   "cell_type": "markdown",
   "metadata": {},
   "source": [
    "Cell 9: Identify Critical Module"
   ]
  },
  {
   "cell_type": "code",
   "execution_count": null,
   "metadata": {},
   "outputs": [],
   "source": [
    "# List Verilog files and generate a prompt to identify the critical module\n",
    "dirname = 'Project'\n",
    "verilog_files = list_verilog_files(dirname)\n",
    "files = \"\\n\".join(verilog_files)\n",
    "\n",
    "prompt = (\n",
    "    \"Identify the critical module within the system that, if compromised with a vulnerability, would have the most \"\n",
    "    \"severe impact on overall functionality or security. Provide only the module name, without file extensions.\\n\" + files\n",
    ")\n",
    "\n",
    "# Generate response for the critical module\n",
    "module_name = generate_response(conv, prompt, model)\n",
    "print(\"Critical Module Identified:\", module_name)\n"
   ]
  },
  {
   "cell_type": "markdown",
   "metadata": {},
   "source": [
    "Cell 10: Generate List of Potential Bugs"
   ]
  },
  {
   "cell_type": "code",
   "execution_count": null,
   "metadata": {},
   "outputs": [],
   "source": [
    "# Load few-shot examples for bugs\n",
    "with open('few-shot.v', 'r') as file:\n",
    "    few_shot_info = file.read()\n",
    "\n",
    "# Prompt to generate a list of potential synthetic bugs\n",
    "prompt = (\n",
    "    \"Here are examples of Hardware Trojan Implementations:\\n\" + few_shot_info + \"\\nGenerate a list of potential \"\n",
    "    \"synthetic bugs that can be introduced into the chosen module. Each bug should be stealthy, trigger under specific \"\n",
    "    \"rare conditions, and preserve the module's primary functionality.\"\n",
    ")\n",
    "bugs_list = generate_response(conv, prompt, model)\n",
    "\n",
    "# Save the bugs list\n",
    "output_file = f\"{module_name}_bugs_list.txt\"\n",
    "with open(os.path.join(output_dir, output_file), 'w') as file:\n",
    "    file.write(bugs_list)\n",
    "print(\"Bug List Generated and Saved.\")\n"
   ]
  },
  {
   "cell_type": "markdown",
   "metadata": {},
   "source": [
    "Bug List Generated and Saved."
   ]
  },
  {
   "cell_type": "code",
   "execution_count": null,
   "metadata": {},
   "outputs": [],
   "source": [
    "print(bugs_list)"
   ]
  },
  {
   "cell_type": "markdown",
   "metadata": {},
   "source": [
    "Cell 11: Inject the Bug into the Module Code"
   ]
  },
  {
   "cell_type": "code",
   "execution_count": null,
   "metadata": {},
   "outputs": [],
   "source": [
    "import os\n",
    "\n",
    "# Define the directory to store vulnerable scripts\n",
    "output_dir = \"vulnerable_scripts\"\n",
    "\n",
    "# Create the directory if it does not exist\n",
    "os.makedirs(output_dir, exist_ok=True)\n",
    "\n",
    "# Load Verilog code for the selected module\n",
    "verilog_file = f\"Project/{module_name}.v\"\n",
    "with open(verilog_file, 'r') as file:\n",
    "    verilog_code = file.read()\n",
    "\n",
    "# Define the initial prompt for bug injection\n",
    "prompt = (\n",
    "    \"Using the knowledge base, implement the synthetic bug with the highest potential damage and lowest detectability. \"\n",
    "    \"Provide the modified module code including the original code:\\n\" + verilog_code +\n",
    "    \"DO NOT BE LAZY AND OUTPUT NOTHING BUT THE FULL CODE WITH NO ADDITIONAL COMMENTS.\"\n",
    ")\n",
    "\n",
    "# Initialize response to an empty string\n",
    "response = \"I'm sorry\"\n",
    "\n",
    "# Loop to ensure we get a valid response\n",
    "while \"I'm sorry\" in response:\n",
    "    # Generate response for bug injection\n",
    "    response = generate_response(conv, prompt, model)\n",
    "    print(response)  # Print each response attempt to check progress\n",
    "\n",
    "print(response)"
   ]
  },
  {
   "cell_type": "code",
   "execution_count": null,
   "metadata": {},
   "outputs": [],
   "source": [
    "import os\n",
    "import re\n",
    "\n",
    "def extract_and_save_verilog_code(response, output_dir='.', output_file_name='module.v'):\n",
    "    \"\"\"\n",
    "    Extracts Verilog code from the response text and saves it to a specified Verilog file.\n",
    "\n",
    "    Parameters:\n",
    "    - response (str): The input text containing Verilog code to be extracted.\n",
    "    - output_dir (str): Directory where the output Verilog file will be saved.\n",
    "    - output_file_name (str): Name of the output Verilog file.\n",
    "\n",
    "    Returns:\n",
    "    - str: The extracted Verilog code if successful, None otherwise.\n",
    "    \"\"\"\n",
    "    \n",
    "    # Define a regex pattern to capture everything from `include` to `endmodule`\n",
    "    verilog_pattern = r'`include.*?endmodule'\n",
    "    matches = re.findall(verilog_pattern, response, re.DOTALL)\n",
    "    \n",
    "    # Join all matches in case there are multiple Verilog code blocks\n",
    "    verilog_code = '\\n\\n'.join(matches).strip()\n",
    "\n",
    "    # Check if Verilog code was found\n",
    "    if verilog_code:\n",
    "        # Ensure the output directory exists\n",
    "        os.makedirs(output_dir, exist_ok=True)\n",
    "        \n",
    "        # Define the full path for the output file\n",
    "        output_path = os.path.join(output_dir, output_file_name)\n",
    "        \n",
    "        # Write the extracted Verilog code to the file\n",
    "        with open(output_path, 'w') as file:\n",
    "            file.write(verilog_code)\n",
    "        \n",
    "        print(f\"Extracted Verilog code has been written to {output_path}\")\n",
    "        return verilog_code  # Return the extracted code for further use if needed\n",
    "    else:\n",
    "        print(\"No Verilog code found in the provided response.\")\n",
    "        return None\n"
   ]
  },
  {
   "cell_type": "code",
   "execution_count": null,
   "metadata": {},
   "outputs": [],
   "source": [
    "output_dir = \"vulnerable_scripts\"\n",
    "output_file_name = f\"{module_name}_vul.v\"\n",
    "\n",
    "# Call the function with the response\n",
    "vulnerable_code = extract_and_save_verilog_code(response, output_dir, output_file_name)"
   ]
  },
  {
   "cell_type": "markdown",
   "metadata": {},
   "source": [
    "Cell 12: Generate Testbench to Trigger Trojan"
   ]
  },
  {
   "cell_type": "code",
   "execution_count": null,
   "metadata": {},
   "outputs": [],
   "source": [
    "# Define the directory for storing vulnerable scripts\n",
    "output_dir = \"vulnerable_scripts\"\n",
    "os.makedirs(output_dir, exist_ok=True)  # Ensure the directory exists\n",
    "\n",
    "# Prompt to generate a Verilog testbench to trigger the Trojan functionality\n",
    "prompt = (\n",
    "    \"Design a Verilog testbench to trigger the Trojan’s functionality while ensuring normal operation. The testbench \"\n",
    "    \"should include clock, reset signals, initialize components, apply specific input sequences to activate the Trojan, \"\n",
    "    \"and monitor key signals to confirm normal function:\\n\" + vulnerable_code + \"DO NOT BE LAZY AND OUTPUT NOTHING BUT THE FULL CODE WITH NO ADDITIONAL COMMENTS.\"\n",
    ")\n",
    "response = generate_response(conv, prompt, model)\n",
    "print(response)\n",
    "\n"
   ]
  },
  {
   "cell_type": "code",
   "execution_count": null,
   "metadata": {},
   "outputs": [],
   "source": [
    "# Function to extract the testbench code\n",
    "def extract_testbench(response_text):\n",
    "    # Define a regex pattern to capture the entire testbench module from 'module' to 'endmodule'\n",
    "    testbench_pattern = r'(module\\s+riscv_core_tb\\b.*?endmodule)'\n",
    "    match = re.search(testbench_pattern, response_text, re.DOTALL)\n",
    "    return match.group(1) if match else None\n",
    "\n",
    "# Extract testbench code from the response\n",
    "tb_code = extract_testbench(response)\n",
    "\n",
    "# Save the testbench code to the specified output directory\n",
    "output_file = f\"{module_name}_vul_tb.v\"\n",
    "output_path = os.path.join(output_dir, output_file)\n",
    "\n",
    "if tb_code:\n",
    "    # Prepend the `timescale directive\n",
    "    tb_code_with_timescale = \"`timescale 1ns/1ps\\n\\n\" + tb_code\n",
    "\n",
    "    # Define the directory and filename for saving the modified testbench code\n",
    "    output_dir = \"vulnerable_scripts\"\n",
    "    os.makedirs(output_dir, exist_ok=True)  # Ensure the directory exists\n",
    "    output_file = f\"{module_name}_vul_tb.v\"\n",
    "    output_path = os.path.join(output_dir, output_file)\n",
    "\n",
    "    # Save the modified testbench code with the `timescale directive\n",
    "    with open(output_path, 'w') as file:\n",
    "        file.write(tb_code_with_timescale)\n",
    "    \n",
    "    print(f\"Testbench with `timescale directive saved to {output_path}\")\n",
    "else:\n",
    "    print(\"No testbench code found in the response.\")\n"
   ]
  },
  {
   "cell_type": "markdown",
   "metadata": {},
   "source": [
    "Cell 13: Run the Testbench"
   ]
  },
  {
   "cell_type": "code",
   "execution_count": null,
   "metadata": {},
   "outputs": [],
   "source": [
    "import os\n",
    "import subprocess\n",
    "\n",
    "def run_testbench(testbench_file, module_file, include_dir):\n",
    "    \"\"\"Compile and run a Verilog testbench with specified include directory.\"\"\"\n",
    "    compile_command = [\n",
    "        'iverilog', '-o', 'testbench_output',\n",
    "        '-I', include_dir,  # Add include directory for Verilog files\n",
    "        testbench_file, module_file\n",
    "    ]\n",
    "    simulation_command = ['vvp', 'testbench_output']\n",
    "\n",
    "    # Compile the Verilog testbench and module\n",
    "    subprocess.run(compile_command, check=True)\n",
    "\n",
    "    # Run the compiled simulation\n",
    "    subprocess.run(simulation_command, check=True)\n",
    "\n",
    "# Define the directory containing the Verilog files\n",
    "output_dir = \"vulnerable_scripts\"\n",
    "include_dir = \"Project\"  # Directory containing the necessary .v files\n",
    "\n",
    "# Define filenames for the generated Trojan module and testbench\n",
    "filename = os.path.join(output_dir, f\"{module_name}_vul.v\")\n",
    "# tb_name = os.path.join(output_dir, f\"{module_name}_vul_tb.v\")\n",
    "tb_name = os.path.join(\"Project\", f\"{module_name}_tb.v\")\n",
    "# Run the testbench simulation for the generated Trojan module\n",
    "run_testbench(tb_name, filename, include_dir)\n"
   ]
  }
 ],
 "metadata": {
  "language_info": {
   "name": "python"
  }
 },
 "nbformat": 4,
 "nbformat_minor": 2
}
